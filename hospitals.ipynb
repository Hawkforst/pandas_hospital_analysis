{
 "cells": [
  {
   "cell_type": "code",
   "execution_count": 1,
   "id": "0936f880",
   "metadata": {},
   "outputs": [],
   "source": [
    "import pandas as pd"
   ]
  },
  {
   "cell_type": "code",
   "execution_count": 2,
   "id": "d4705b10",
   "metadata": {},
   "outputs": [],
   "source": [
    "pd.set_option('display.max_columns', 8)\n",
    "data = dict()\n",
    "data['general'] = pd.read_csv('general.csv')\n",
    "data['prenatal'] = pd.read_csv('prenatal.csv')\n",
    "data['sports'] = pd.read_csv('sports.csv')\n"
   ]
  },
  {
   "cell_type": "code",
   "execution_count": 3,
   "id": "cd0e1354",
   "metadata": {},
   "outputs": [
    {
     "name": "stdout",
     "output_type": "stream",
     "text": [
      "(1000, 14)\n",
      "     hospital gender   age  height  ...  mri  xray children months\n",
      "929    sports      f  23.0   6.809  ...    t     f      0.0    0.0\n",
      "927    sports      m  21.0   6.052  ...    t     f      0.0    0.0\n",
      "516  prenatal      f  20.0   1.650  ...    0     f      1.0    4.0\n",
      "87    general      m  54.0   1.720  ...    0     0      0.0    0.0\n",
      "885    sports      f  16.0   5.915  ...    t     f      0.0    0.0\n",
      "463  prenatal      f  34.0   1.650  ...    0     f      1.0    5.0\n",
      "112   general      m  77.0   1.690  ...    0     0      0.0    0.0\n",
      "297   general      m  56.0   1.480  ...    0     0      0.0    0.0\n",
      "417   general      f  26.0   1.650  ...    0     0      0.0    0.0\n",
      "660  prenatal      f  38.0   1.590  ...    0     f      1.0    4.0\n",
      "344   general      f  60.0   1.410  ...    0     0      0.0    0.0\n",
      "834    sports      f  21.0   5.585  ...    f     t      0.0    0.0\n",
      "10    general      m  27.0   1.850  ...    0     0      0.0    0.0\n",
      "56    general      m  23.0   1.650  ...    0     0      0.0    0.0\n",
      "616  prenatal      f  33.0   1.770  ...    0     f      1.0    7.0\n",
      "479  prenatal      f  35.0   1.810  ...    0     f      1.0    8.0\n",
      "578  prenatal      f  31.0   1.770  ...    0     f      1.0    8.0\n",
      "411   general      m  26.0   1.610  ...    0     0      0.0    0.0\n",
      "521  prenatal      f  30.0   1.740  ...    0     f      1.0    3.0\n",
      "941    sports      f  25.0   6.208  ...    f     t      0.0    0.0\n",
      "\n",
      "[20 rows x 14 columns]\n"
     ]
    }
   ],
   "source": [
    "data['prenatal'].columns = data['general'].keys().values\n",
    "data['sports'].columns = data['general'].keys().values\n",
    "\n",
    "\n",
    "hospital_data = pd.concat([data['general'], data['prenatal'], data['sports']], ignore_index=True)\n",
    "\n",
    "hospital_data.drop(columns=['Unnamed: 0'],inplace=True)\n",
    "\n",
    "hospital_data.dropna(axis=0, how='all', inplace=True)\n",
    "\n",
    "mask = (hospital_data['hospital'] == 'prenatal')\n",
    "\n",
    "hospital_data.loc[mask, 'gender'] = hospital_data.loc[mask, 'gender'].fillna('f')\n",
    "\n",
    "hospital_data.replace({'gender': {'female': 'f', 'male': 'm', 'Female': 'f', 'Male': 'm', 'man': 'm', 'woman': 'f'}}, inplace = True)\n",
    "\n",
    "hospital_data.update(hospital_data[['bmi', 'diagnosis', 'blood_test',\n",
    "                    'ecg', 'ultrasound', 'mri', 'xray',\n",
    "                    'children', 'months']]\n",
    "                   .fillna(0))\n",
    "\n",
    "print(hospital_data.shape)\n",
    "print(hospital_data.sample(n=20,random_state=30))"
   ]
  },
  {
   "cell_type": "markdown",
   "id": "f1ddc43c",
   "metadata": {},
   "source": [
    "Which hospital has the highest number of patients?"
   ]
  },
  {
   "cell_type": "code",
   "execution_count": 4,
   "id": "50a76084",
   "metadata": {},
   "outputs": [
    {
     "data": {
      "text/plain": [
       "Index(['hospital', 'gender', 'age', 'height', 'weight', 'bmi', 'diagnosis',\n",
       "       'blood_test', 'ecg', 'ultrasound', 'mri', 'xray', 'children', 'months'],\n",
       "      dtype='object')"
      ]
     },
     "execution_count": 4,
     "metadata": {},
     "output_type": "execute_result"
    }
   ],
   "source": [
    "hospital_data.keys()"
   ]
  },
  {
   "cell_type": "code",
   "execution_count": 5,
   "id": "722434d6",
   "metadata": {},
   "outputs": [
    {
     "name": "stdout",
     "output_type": "stream",
     "text": [
      "The answer is: general.\n"
     ]
    }
   ],
   "source": [
    "print(\"The answer is: \" + hospital_data.hospital.value_counts().idxmax() + \".\")"
   ]
  },
  {
   "cell_type": "markdown",
   "id": "57593586",
   "metadata": {},
   "source": [
    "What share of the patients in the general hospital suffers from stomach-related issues? Round the result to the third decimal place."
   ]
  },
  {
   "cell_type": "code",
   "execution_count": 6,
   "id": "8d282e0c",
   "metadata": {
    "scrolled": true
   },
   "outputs": [
    {
     "data": {
      "text/plain": [
       "0             cold\n",
       "1          stomach\n",
       "2             cold\n",
       "3          stomach\n",
       "4      dislocation\n",
       "          ...     \n",
       "456           cold\n",
       "457        stomach\n",
       "458          heart\n",
       "459        stomach\n",
       "460        stomach\n",
       "Name: diagnosis, Length: 461, dtype: object"
      ]
     },
     "execution_count": 6,
     "metadata": {},
     "output_type": "execute_result"
    }
   ],
   "source": [
    "hospital_data.loc[hospital_data['hospital'] == 'general', 'diagnosis']"
   ]
  },
  {
   "cell_type": "code",
   "execution_count": 7,
   "id": "efed217b",
   "metadata": {},
   "outputs": [
    {
     "data": {
      "text/html": [
       "<div>\n",
       "<style scoped>\n",
       "    .dataframe tbody tr th:only-of-type {\n",
       "        vertical-align: middle;\n",
       "    }\n",
       "\n",
       "    .dataframe tbody tr th {\n",
       "        vertical-align: top;\n",
       "    }\n",
       "\n",
       "    .dataframe thead th {\n",
       "        text-align: right;\n",
       "    }\n",
       "</style>\n",
       "<table border=\"1\" class=\"dataframe\">\n",
       "  <thead>\n",
       "    <tr style=\"text-align: right;\">\n",
       "      <th></th>\n",
       "      <th>hospital</th>\n",
       "      <th>gender</th>\n",
       "      <th>age</th>\n",
       "      <th>height</th>\n",
       "      <th>weight</th>\n",
       "      <th>bmi</th>\n",
       "      <th>diagnosis</th>\n",
       "      <th>blood_test</th>\n",
       "      <th>ecg</th>\n",
       "      <th>ultrasound</th>\n",
       "      <th>mri</th>\n",
       "      <th>xray</th>\n",
       "      <th>children</th>\n",
       "      <th>months</th>\n",
       "    </tr>\n",
       "  </thead>\n",
       "  <tbody>\n",
       "    <tr>\n",
       "      <th>1</th>\n",
       "      <td>general</td>\n",
       "      <td>m</td>\n",
       "      <td>48.0</td>\n",
       "      <td>1.93</td>\n",
       "      <td>106.0</td>\n",
       "      <td>28.4</td>\n",
       "      <td>stomach</td>\n",
       "      <td>t</td>\n",
       "      <td>0</td>\n",
       "      <td>t</td>\n",
       "      <td>0</td>\n",
       "      <td>0</td>\n",
       "      <td>0.0</td>\n",
       "      <td>0.0</td>\n",
       "    </tr>\n",
       "    <tr>\n",
       "      <th>3</th>\n",
       "      <td>general</td>\n",
       "      <td>m</td>\n",
       "      <td>27.0</td>\n",
       "      <td>1.94</td>\n",
       "      <td>103.0</td>\n",
       "      <td>27.5</td>\n",
       "      <td>stomach</td>\n",
       "      <td>t</td>\n",
       "      <td>0</td>\n",
       "      <td>t</td>\n",
       "      <td>0</td>\n",
       "      <td>0</td>\n",
       "      <td>0.0</td>\n",
       "      <td>0.0</td>\n",
       "    </tr>\n",
       "    <tr>\n",
       "      <th>6</th>\n",
       "      <td>general</td>\n",
       "      <td>f</td>\n",
       "      <td>68.0</td>\n",
       "      <td>1.80</td>\n",
       "      <td>85.0</td>\n",
       "      <td>26.4</td>\n",
       "      <td>stomach</td>\n",
       "      <td>f</td>\n",
       "      <td>0</td>\n",
       "      <td>f</td>\n",
       "      <td>0</td>\n",
       "      <td>0</td>\n",
       "      <td>0.0</td>\n",
       "      <td>0.0</td>\n",
       "    </tr>\n",
       "    <tr>\n",
       "      <th>11</th>\n",
       "      <td>general</td>\n",
       "      <td>m</td>\n",
       "      <td>57.0</td>\n",
       "      <td>1.86</td>\n",
       "      <td>95.0</td>\n",
       "      <td>27.5</td>\n",
       "      <td>stomach</td>\n",
       "      <td>f</td>\n",
       "      <td>0</td>\n",
       "      <td>f</td>\n",
       "      <td>0</td>\n",
       "      <td>0</td>\n",
       "      <td>0.0</td>\n",
       "      <td>0.0</td>\n",
       "    </tr>\n",
       "    <tr>\n",
       "      <th>14</th>\n",
       "      <td>general</td>\n",
       "      <td>f</td>\n",
       "      <td>47.0</td>\n",
       "      <td>1.80</td>\n",
       "      <td>83.0</td>\n",
       "      <td>25.9</td>\n",
       "      <td>stomach</td>\n",
       "      <td>t</td>\n",
       "      <td>0</td>\n",
       "      <td>f</td>\n",
       "      <td>0</td>\n",
       "      <td>0</td>\n",
       "      <td>0.0</td>\n",
       "      <td>0.0</td>\n",
       "    </tr>\n",
       "    <tr>\n",
       "      <th>...</th>\n",
       "      <td>...</td>\n",
       "      <td>...</td>\n",
       "      <td>...</td>\n",
       "      <td>...</td>\n",
       "      <td>...</td>\n",
       "      <td>...</td>\n",
       "      <td>...</td>\n",
       "      <td>...</td>\n",
       "      <td>...</td>\n",
       "      <td>...</td>\n",
       "      <td>...</td>\n",
       "      <td>...</td>\n",
       "      <td>...</td>\n",
       "      <td>...</td>\n",
       "    </tr>\n",
       "    <tr>\n",
       "      <th>452</th>\n",
       "      <td>general</td>\n",
       "      <td>m</td>\n",
       "      <td>49.0</td>\n",
       "      <td>1.66</td>\n",
       "      <td>71.0</td>\n",
       "      <td>25.6</td>\n",
       "      <td>stomach</td>\n",
       "      <td>t</td>\n",
       "      <td>0</td>\n",
       "      <td>t</td>\n",
       "      <td>0</td>\n",
       "      <td>0</td>\n",
       "      <td>0.0</td>\n",
       "      <td>0.0</td>\n",
       "    </tr>\n",
       "    <tr>\n",
       "      <th>455</th>\n",
       "      <td>general</td>\n",
       "      <td>m</td>\n",
       "      <td>30.0</td>\n",
       "      <td>1.65</td>\n",
       "      <td>65.0</td>\n",
       "      <td>24.1</td>\n",
       "      <td>stomach</td>\n",
       "      <td>f</td>\n",
       "      <td>0</td>\n",
       "      <td>f</td>\n",
       "      <td>0</td>\n",
       "      <td>0</td>\n",
       "      <td>0.0</td>\n",
       "      <td>0.0</td>\n",
       "    </tr>\n",
       "    <tr>\n",
       "      <th>457</th>\n",
       "      <td>general</td>\n",
       "      <td>f</td>\n",
       "      <td>23.0</td>\n",
       "      <td>1.48</td>\n",
       "      <td>54.0</td>\n",
       "      <td>24.6</td>\n",
       "      <td>stomach</td>\n",
       "      <td>f</td>\n",
       "      <td>0</td>\n",
       "      <td>f</td>\n",
       "      <td>0</td>\n",
       "      <td>0</td>\n",
       "      <td>0.0</td>\n",
       "      <td>0.0</td>\n",
       "    </tr>\n",
       "    <tr>\n",
       "      <th>459</th>\n",
       "      <td>general</td>\n",
       "      <td>f</td>\n",
       "      <td>40.0</td>\n",
       "      <td>1.75</td>\n",
       "      <td>84.0</td>\n",
       "      <td>27.5</td>\n",
       "      <td>stomach</td>\n",
       "      <td>t</td>\n",
       "      <td>0</td>\n",
       "      <td>f</td>\n",
       "      <td>0</td>\n",
       "      <td>0</td>\n",
       "      <td>0.0</td>\n",
       "      <td>0.0</td>\n",
       "    </tr>\n",
       "    <tr>\n",
       "      <th>460</th>\n",
       "      <td>general</td>\n",
       "      <td>f</td>\n",
       "      <td>38.0</td>\n",
       "      <td>1.53</td>\n",
       "      <td>59.0</td>\n",
       "      <td>25.6</td>\n",
       "      <td>stomach</td>\n",
       "      <td>f</td>\n",
       "      <td>0</td>\n",
       "      <td>t</td>\n",
       "      <td>0</td>\n",
       "      <td>0</td>\n",
       "      <td>0.0</td>\n",
       "      <td>0.0</td>\n",
       "    </tr>\n",
       "  </tbody>\n",
       "</table>\n",
       "<p>150 rows × 14 columns</p>\n",
       "</div>"
      ],
      "text/plain": [
       "    hospital gender   age  height  weight   bmi diagnosis blood_test ecg  \\\n",
       "1    general      m  48.0    1.93   106.0  28.4   stomach          t   0   \n",
       "3    general      m  27.0    1.94   103.0  27.5   stomach          t   0   \n",
       "6    general      f  68.0    1.80    85.0  26.4   stomach          f   0   \n",
       "11   general      m  57.0    1.86    95.0  27.5   stomach          f   0   \n",
       "14   general      f  47.0    1.80    83.0  25.9   stomach          t   0   \n",
       "..       ...    ...   ...     ...     ...   ...       ...        ...  ..   \n",
       "452  general      m  49.0    1.66    71.0  25.6   stomach          t   0   \n",
       "455  general      m  30.0    1.65    65.0  24.1   stomach          f   0   \n",
       "457  general      f  23.0    1.48    54.0  24.6   stomach          f   0   \n",
       "459  general      f  40.0    1.75    84.0  27.5   stomach          t   0   \n",
       "460  general      f  38.0    1.53    59.0  25.6   stomach          f   0   \n",
       "\n",
       "    ultrasound mri xray  children  months  \n",
       "1            t   0    0       0.0     0.0  \n",
       "3            t   0    0       0.0     0.0  \n",
       "6            f   0    0       0.0     0.0  \n",
       "11           f   0    0       0.0     0.0  \n",
       "14           f   0    0       0.0     0.0  \n",
       "..         ...  ..  ...       ...     ...  \n",
       "452          t   0    0       0.0     0.0  \n",
       "455          f   0    0       0.0     0.0  \n",
       "457          f   0    0       0.0     0.0  \n",
       "459          f   0    0       0.0     0.0  \n",
       "460          t   0    0       0.0     0.0  \n",
       "\n",
       "[150 rows x 14 columns]"
      ]
     },
     "execution_count": 7,
     "metadata": {},
     "output_type": "execute_result"
    }
   ],
   "source": [
    "pd.set_option('display.max_columns', None)\n",
    "hospital_data.loc[(hospital_data['hospital'] == 'general') & (hospital_data['diagnosis'] == 'stomach')]"
   ]
  },
  {
   "cell_type": "code",
   "execution_count": 8,
   "id": "24c1ba43",
   "metadata": {},
   "outputs": [
    {
     "data": {
      "text/plain": [
       "hospital      150\n",
       "gender        150\n",
       "age           150\n",
       "height        150\n",
       "weight        150\n",
       "bmi           150\n",
       "diagnosis     150\n",
       "blood_test    150\n",
       "ecg           150\n",
       "ultrasound    150\n",
       "mri           150\n",
       "xray          150\n",
       "children      150\n",
       "months        150\n",
       "dtype: int64"
      ]
     },
     "execution_count": 8,
     "metadata": {},
     "output_type": "execute_result"
    }
   ],
   "source": [
    "hospital_data.loc[(hospital_data['hospital'] == 'general') & (hospital_data['diagnosis'] == 'stomach')].count()"
   ]
  },
  {
   "cell_type": "code",
   "execution_count": 9,
   "id": "401e8cea",
   "metadata": {},
   "outputs": [],
   "source": [
    "patient_stomach = hospital_data.loc[(hospital_data['hospital'] == 'general') & (hospital_data['diagnosis'] == 'stomach')].count()[1]\n",
    "patients_total = hospital_data.loc[(hospital_data['hospital'] == 'general')].count()[1]"
   ]
  },
  {
   "cell_type": "code",
   "execution_count": 10,
   "id": "76d82a4f",
   "metadata": {},
   "outputs": [
    {
     "name": "stdout",
     "output_type": "stream",
     "text": [
      "The answer is: 0.325.\n"
     ]
    }
   ],
   "source": [
    "print(\"The answer is: \" + str((patient_stomach / patients_total).round(3)) + \".\")"
   ]
  },
  {
   "cell_type": "code",
   "execution_count": 11,
   "id": "a9dee179",
   "metadata": {},
   "outputs": [],
   "source": [
    "patients_dislocation = hospital_data.loc[(hospital_data['hospital'] == 'sports') & (hospital_data['diagnosis'] == 'dislocation')].count()[1]\n",
    "patients_total = hospital_data.loc[(hospital_data['hospital'] == 'sports')].count()[1]"
   ]
  },
  {
   "cell_type": "code",
   "execution_count": 12,
   "id": "a30a9167",
   "metadata": {},
   "outputs": [
    {
     "name": "stdout",
     "output_type": "stream",
     "text": [
      "The answer is: 0.285.\n"
     ]
    }
   ],
   "source": [
    "print(\"The answer is: \" + str((patients_dislocation / patients_total).round(3)) + \".\")"
   ]
  },
  {
   "cell_type": "code",
   "execution_count": 15,
   "id": "42b0e9d6",
   "metadata": {},
   "outputs": [
    {
     "name": "stdout",
     "output_type": "stream",
     "text": [
      "The answer is: 19.573256026111462.\n"
     ]
    }
   ],
   "source": [
    "general_age_mean = hospital_data.loc[(hospital_data['hospital'] == 'general')].age.mean()\n",
    "sports_age_mean = hospital_data.loc[(hospital_data['hospital'] == 'sports')].age.mean()\n",
    "\n",
    "print(\"The answer is: \" + str(general_age_mean - sports_age_mean) + \".\")"
   ]
  },
  {
   "cell_type": "code",
   "execution_count": 16,
   "id": "dbbb2455",
   "metadata": {},
   "outputs": [
    {
     "data": {
      "text/plain": [
       "hospital      508\n",
       "gender        508\n",
       "age           508\n",
       "height        508\n",
       "weight        508\n",
       "bmi           508\n",
       "diagnosis     508\n",
       "blood_test    508\n",
       "ecg           508\n",
       "ultrasound    508\n",
       "mri           508\n",
       "xray          508\n",
       "children      508\n",
       "months        508\n",
       "dtype: int64"
      ]
     },
     "execution_count": 16,
     "metadata": {},
     "output_type": "execute_result"
    }
   ],
   "source": [
    " hospital_data.loc[(hospital_data['blood_test'] == 't')].count()"
   ]
  },
  {
   "cell_type": "code",
   "execution_count": 17,
   "id": "ac79f14a",
   "metadata": {},
   "outputs": [
    {
     "data": {
      "text/plain": [
       "hospital  blood_test\n",
       "general   f             206\n",
       "          t             183\n",
       "          0              72\n",
       "prenatal  t             325\n",
       "sports    0             214\n",
       "Name: blood_test, dtype: int64"
      ]
     },
     "execution_count": 17,
     "metadata": {},
     "output_type": "execute_result"
    }
   ],
   "source": [
    "hospital_data.groupby(\"hospital\", dropna=False).blood_test.value_counts()"
   ]
  },
  {
   "cell_type": "code",
   "execution_count": 18,
   "id": "8bc45a80",
   "metadata": {},
   "outputs": [
    {
     "data": {
      "text/plain": [
       "<bound method SeriesGroupBy.value_counts of <pandas.core.groupby.generic.SeriesGroupBy object at 0x000001BC74D13A00>>"
      ]
     },
     "execution_count": 18,
     "metadata": {},
     "output_type": "execute_result"
    }
   ],
   "source": [
    "hospital_data.groupby(\"hospital\", dropna=False).blood_test.value_counts"
   ]
  },
  {
   "cell_type": "code",
   "execution_count": 19,
   "id": "1ef1fada",
   "metadata": {},
   "outputs": [
    {
     "data": {
      "text/plain": [
       "<AxesSubplot:ylabel='Frequency'>"
      ]
     },
     "execution_count": 19,
     "metadata": {},
     "output_type": "execute_result"
    },
    {
     "data": {
      "image/png": "[encoded data removed]",
      "text/plain": [
       "<Figure size 432x288 with 1 Axes>"
      ]
     },
     "metadata": {
      "needs_background": "light"
     },
     "output_type": "display_data"
    }
   ],
   "source": [
    "hospital_data.plot(y='age', kind='hist', bins=[0,15,35,55,70,80])"
   ]
  },
  {
   "cell_type": "code",
   "execution_count": 20,
   "id": "82afee98",
   "metadata": {},
   "outputs": [],
   "source": [
    "import matplotlib.pyplot as plt\n",
    "explode = [0.0, 0.1, 0.2, 0.1]"
   ]
  },
  {
   "cell_type": "code",
   "execution_count": 21,
   "id": "367f36ed",
   "metadata": {},
   "outputs": [
    {
     "data": {
      "text/plain": [
       "([<matplotlib.patches.Wedge at 0x1bc77c3f820>,\n",
       "  <matplotlib.patches.Wedge at 0x1bc77c6c220>,\n",
       "  <matplotlib.patches.Wedge at 0x1bc77c6cbb0>,\n",
       "  <matplotlib.patches.Wedge at 0x1bc77c6d540>,\n",
       "  <matplotlib.patches.Wedge at 0x1bc77c6ded0>,\n",
       "  <matplotlib.patches.Wedge at 0x1bc77c6e860>,\n",
       "  <matplotlib.patches.Wedge at 0x1bc77c6f1f0>],\n",
       " [Text(0.5952334099043236, 0.9250390195735916, 'pregnancy'),\n",
       "  Text(-0.9468162003458401, 0.5599456069679145, 'cold'),\n",
       "  Text(-0.9269044640242977, -0.592324332246979, 'stomach'),\n",
       "  Text(-0.19932633431792154, -1.0817897265399503, 'sprain'),\n",
       "  Text(0.44319710058782713, -1.0067652805051153, 'dislocation'),\n",
       "  Text(0.895972820928252, -0.6381478701350265, 'fracture'),\n",
       "  Text(1.0830207759494073, -0.192525320054126, 'heart')],\n",
       " [Text(0.32467276903872194, 0.5045667379492317, '31.8%'),\n",
       "  Text(-0.51644520018864, 0.3054248765279533, '19.4%'),\n",
       "  Text(-0.5055842531041623, -0.3230859994074431, '15.7%'),\n",
       "  Text(-0.10872345508250265, -0.5900671235672456, '10.4%'),\n",
       "  Text(0.24174387304790568, -0.5491446984573356, '8.6%'),\n",
       "  Text(0.4887124477790465, -0.34808065643728714, '8.5%'),\n",
       "  Text(0.590738605063313, -0.10501381093861417, '5.6%')])"
      ]
     },
     "execution_count": 21,
     "metadata": {},
     "output_type": "execute_result"
    },
    {
     "data": {
      "image/png": "[encoded data removed]",
      "text/plain": [
       "<Figure size 432x288 with 1 Axes>"
      ]
     },
     "metadata": {},
     "output_type": "display_data"
    }
   ],
   "source": [
    "plt.pie((hospital_data['diagnosis'].value_counts()).values, \n",
    "        labels=(hospital_data['diagnosis'].value_counts()).axes[0], \n",
    "        autopct='%.1f%%',\n",
    "        shadow=True)\n"
   ]
  },
  {
   "cell_type": "code",
   "execution_count": 22,
   "id": "11416014",
   "metadata": {},
   "outputs": [
    {
     "data": {
      "text/plain": [
       "{'bodies': [<matplotlib.collections.PolyCollection at 0x1bc77cce1d0>],\n",
       " 'cmaxes': <matplotlib.collections.LineCollection at 0x1bc77cce0b0>,\n",
       " 'cmins': <matplotlib.collections.LineCollection at 0x1bc77cce890>,\n",
       " 'cbars': <matplotlib.collections.LineCollection at 0x1bc77ccec50>}"
      ]
     },
     "execution_count": 22,
     "metadata": {},
     "output_type": "execute_result"
    },
    {
     "data": {
      "image/png": "[encoded data removed]",
      "text/plain": [
       "<Figure size 432x288 with 1 Axes>"
      ]
     },
     "metadata": {
      "needs_background": "light"
     },
     "output_type": "display_data"
    }
   ],
   "source": [
    "plt.violinplot(hospital_data['age'])\n"
   ]
  },
  {
   "cell_type": "code",
   "execution_count": 32,
   "id": "d6fb8a5c",
   "metadata": {},
   "outputs": [
    {
     "data": {
      "text/plain": [
       "0      33.0\n",
       "1      48.0\n",
       "2      23.0\n",
       "3      27.0\n",
       "4      22.0\n",
       "       ... \n",
       "456    19.0\n",
       "457    23.0\n",
       "458    48.0\n",
       "459    40.0\n",
       "460    38.0\n",
       "Name: age, Length: 461, dtype: float64"
      ]
     },
     "execution_count": 32,
     "metadata": {},
     "output_type": "execute_result"
    }
   ],
   "source": [
    "(hospital_data[hospital_data['hospital'] == 'general'])['age']"
   ]
  },
  {
   "cell_type": "code",
   "execution_count": 51,
   "id": "deb93da9",
   "metadata": {},
   "outputs": [
    {
     "data": {
      "image/png": "[encoded data removed]",
      "text/plain": [
       "<Figure size 720x1152 with 4 Axes>"
      ]
     },
     "metadata": {
      "needs_background": "light"
     },
     "output_type": "display_data"
    }
   ],
   "source": [
    "fig, axs = plt.subplots(nrows=4, ncols=1, figsize=(10, 16))\n",
    "axs[0].violinplot((hospital_data[hospital_data['hospital'] == 'general'])['age'],showmeans=True, showextrema=True)\n",
    "axs[0].set_title('General')\n",
    "axs[0].grid()\n",
    "axs[1].violinplot((hospital_data[hospital_data['hospital'] == 'prenatal'])['age'],showmeans=True, showextrema=True)\n",
    "axs[1].set_title('Prenatal')\n",
    "axs[1].grid()\n",
    "axs[2].violinplot((hospital_data[hospital_data['hospital'] == 'sports'])['age'],showmeans=True, showextrema=True)\n",
    "axs[2].set_title('Sports')\n",
    "axs[2].grid()\n",
    "axs[3].violinplot(hospital_data['age'],showmeans=True, showextrema=True)\n",
    "axs[3].set_title('Total')\n",
    "axs[3].grid()\n"
   ]
  }
 ],
 "metadata": {
  "kernelspec": {
   "display_name": "Python 3 (ipykernel)",
   "language": "python",
   "name": "python3"
  },
  "language_info": {
   "codemirror_mode": {
    "name": "ipython",
    "version": 3
   },
   "file_extension": ".py",
   "mimetype": "text/x-python",
   "name": "python",
   "nbconvert_exporter": "python",
   "pygments_lexer": "ipython3",
   "version": "3.10.1"
  }
 },
 "nbformat": 4,
 "nbformat_minor": 5
}
